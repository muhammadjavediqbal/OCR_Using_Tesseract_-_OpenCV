{
  "cells": [
    {
      "cell_type": "code",
      "execution_count": 1,
      "metadata": {
        "colab": {
          "base_uri": "https://localhost:8080/"
        },
        "id": "Yy9dhDPFBQ-k",
        "outputId": "fecfba7d-2967-435c-93a4-bca95c47e6a3"
      },
      "outputs": [
        {
          "name": "stdout",
          "output_type": "stream",
          "text": [
            "Requirement already satisfied: opencv-python in c:\\users\\muhammad javed iqbal\\conda\\envs\\ocr\\lib\\site-packages (4.7.0.72)\n",
            "Requirement already satisfied: numpy>=1.21.2 in c:\\users\\muhammad javed iqbal\\conda\\envs\\ocr\\lib\\site-packages (from opencv-python) (1.25.0)\n",
            "Note: you may need to restart the kernel to use updated packages.\n"
          ]
        }
      ],
      "source": [
        "#Install OpenCV\n",
        "%pip install opencv-python"
      ]
    },
    {
      "cell_type": "code",
      "execution_count": 2,
      "metadata": {
        "colab": {
          "base_uri": "https://localhost:8080/"
        },
        "id": "g-AqBh1JBYMS",
        "outputId": "8b6c3ae1-c091-4a3a-f94d-a8927ec02409"
      },
      "outputs": [
        {
          "name": "stdout",
          "output_type": "stream",
          "text": [
            "Requirement already satisfied: opencv-contrib-python in c:\\users\\muhammad javed iqbal\\conda\\envs\\ocr\\lib\\site-packages (4.7.0.72)\n",
            "Requirement already satisfied: numpy>=1.19.3 in c:\\users\\muhammad javed iqbal\\conda\\envs\\ocr\\lib\\site-packages (from opencv-contrib-python) (1.25.0)\n",
            "Note: you may need to restart the kernel to use updated packages.\n"
          ]
        }
      ],
      "source": [
        "#Install additional OpenCV modules\n",
        "%pip install opencv-contrib-python"
      ]
    },
    {
      "cell_type": "code",
      "execution_count": 3,
      "metadata": {
        "colab": {
          "base_uri": "https://localhost:8080/"
        },
        "id": "NQgG9mMNBjhN",
        "outputId": "be496f95-486d-4c9e-bc81-0bd918db951f"
      },
      "outputs": [
        {
          "name": "stderr",
          "output_type": "stream",
          "text": [
            "UsageError: Line magic function `%apt-get` not found.\n"
          ]
        }
      ],
      "source": [
        "#Install Tesseract\n",
        "%apt-get install -y tesseract-ocr\n",
        "%pip install pytesseract"
      ]
    },
    {
      "cell_type": "code",
      "execution_count": 4,
      "metadata": {
        "id": "BHHxQCiJBmYd"
      },
      "outputs": [],
      "source": [
        "import cv2\n",
        "import pytesseract"
      ]
    },
    {
      "cell_type": "code",
      "execution_count": 5,
      "metadata": {
        "id": "Sor0ycTnCfNm"
      },
      "outputs": [],
      "source": [
        "#Load the image using OpenCV\n",
        "image = cv2.imread('test1.jpg')"
      ]
    },
    {
      "cell_type": "code",
      "execution_count": 6,
      "metadata": {
        "id": "8saPyFzhCj_B"
      },
      "outputs": [],
      "source": [
        "#Preprocess the image (if required)\n",
        "resized_image = cv2.resize(image, None, fx=2, fy=2, interpolation=cv2.INTER_CUBIC)"
      ]
    },
    {
      "cell_type": "code",
      "execution_count": 7,
      "metadata": {},
      "outputs": [],
      "source": [
        "pytesseract.pytesseract.tesseract_cmd = r'C:\\Users\\Muhammad Javed Iqbal\\AppData\\Local\\tesseract.exe'"
      ]
    },
    {
      "cell_type": "code",
      "execution_count": 8,
      "metadata": {
        "id": "uq16oiDKCw7Z"
      },
      "outputs": [],
      "source": [
        "#Perform OCR using Pytesseract\n",
        "text = pytesseract.image_to_string(resized_image)"
      ]
    },
    {
      "cell_type": "code",
      "execution_count": 9,
      "metadata": {
        "id": "7xmhzy-sEwks"
      },
      "outputs": [],
      "source": [
        "#Additional configurations : language and page segmentation mode\n",
        "text = pytesseract.image_to_string(resized_image, lang='eng', config='--psm 6')"
      ]
    },
    {
      "cell_type": "code",
      "execution_count": 10,
      "metadata": {
        "colab": {
          "base_uri": "https://localhost:8080/"
        },
        "id": "Y9zPRmhxE0yy",
        "outputId": "b8b7b62d-6257-4b7e-aac5-d0c9762cfb2c"
      },
      "outputs": [
        {
          "name": "stdout",
          "output_type": "stream",
          "text": [
            "It is What it is\n",
            "\n"
          ]
        }
      ],
      "source": [
        "print(text)"
      ]
    }
  ],
  "metadata": {
    "colab": {
      "provenance": []
    },
    "kernelspec": {
      "display_name": "Python 3",
      "name": "python3"
    },
    "language_info": {
      "codemirror_mode": {
        "name": "ipython",
        "version": 3
      },
      "file_extension": ".py",
      "mimetype": "text/x-python",
      "name": "python",
      "nbconvert_exporter": "python",
      "pygments_lexer": "ipython3",
      "version": "3.10.9"
    }
  },
  "nbformat": 4,
  "nbformat_minor": 0
}
